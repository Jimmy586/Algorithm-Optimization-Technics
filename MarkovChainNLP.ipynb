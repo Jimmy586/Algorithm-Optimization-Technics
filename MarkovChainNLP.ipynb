{
  "nbformat": 4,
  "nbformat_minor": 0,
  "metadata": {
    "colab": {
      "provenance": [],
      "authorship_tag": "ABX9TyPavSg4bnrWCVqb+5P5o3Wz",
      "include_colab_link": true
    },
    "kernelspec": {
      "name": "python3",
      "display_name": "Python 3"
    },
    "language_info": {
      "name": "python"
    }
  },
  "cells": [
    {
      "cell_type": "markdown",
      "metadata": {
        "id": "view-in-github",
        "colab_type": "text"
      },
      "source": [
        "<a href=\"https://colab.research.google.com/github/Jimmy586/Algorithm-Optimization-Technics/blob/main/MarkovChainNLP.ipynb\" target=\"_parent\"><img src=\"https://colab.research.google.com/assets/colab-badge.svg\" alt=\"Open In Colab\"/></a>"
      ]
    },
    {
      "cell_type": "code",
      "execution_count": null,
      "metadata": {
        "colab": {
          "base_uri": "https://localhost:8080/"
        },
        "id": "HsAPOFlkTtF3",
        "outputId": "537e99a8-e0db-4d36-ccb8-b92f46c70a5b"
      },
      "outputs": [
        {
          "output_type": "stream",
          "name": "stdout",
          "text": [
            "Requirement already satisfied: plotly in /usr/local/lib/python3.10/dist-packages (5.15.0)\n",
            "Requirement already satisfied: tenacity>=6.2.0 in /usr/local/lib/python3.10/dist-packages (from plotly) (8.2.3)\n",
            "Requirement already satisfied: packaging in /usr/local/lib/python3.10/dist-packages (from plotly) (23.2)\n"
          ]
        }
      ],
      "source": [
        "!pip install plotly"
      ]
    },
    {
      "cell_type": "code",
      "source": [
        "!pip install opendatasets"
      ],
      "metadata": {
        "id": "KW-8qvmaUc9v",
        "colab": {
          "base_uri": "https://localhost:8080/"
        },
        "outputId": "8e6a10e2-e713-44f4-ca2c-9a06c893a7db"
      },
      "execution_count": 1,
      "outputs": [
        {
          "output_type": "stream",
          "name": "stdout",
          "text": [
            "Collecting opendatasets\n",
            "  Downloading opendatasets-0.1.22-py3-none-any.whl (15 kB)\n",
            "Requirement already satisfied: tqdm in /usr/local/lib/python3.10/dist-packages (from opendatasets) (4.66.1)\n",
            "Requirement already satisfied: kaggle in /usr/local/lib/python3.10/dist-packages (from opendatasets) (1.5.16)\n",
            "Requirement already satisfied: click in /usr/local/lib/python3.10/dist-packages (from opendatasets) (8.1.7)\n",
            "Requirement already satisfied: six>=1.10 in /usr/local/lib/python3.10/dist-packages (from kaggle->opendatasets) (1.16.0)\n",
            "Requirement already satisfied: certifi in /usr/local/lib/python3.10/dist-packages (from kaggle->opendatasets) (2023.7.22)\n",
            "Requirement already satisfied: python-dateutil in /usr/local/lib/python3.10/dist-packages (from kaggle->opendatasets) (2.8.2)\n",
            "Requirement already satisfied: requests in /usr/local/lib/python3.10/dist-packages (from kaggle->opendatasets) (2.31.0)\n",
            "Requirement already satisfied: python-slugify in /usr/local/lib/python3.10/dist-packages (from kaggle->opendatasets) (8.0.1)\n",
            "Requirement already satisfied: urllib3 in /usr/local/lib/python3.10/dist-packages (from kaggle->opendatasets) (2.0.6)\n",
            "Requirement already satisfied: bleach in /usr/local/lib/python3.10/dist-packages (from kaggle->opendatasets) (6.1.0)\n",
            "Requirement already satisfied: webencodings in /usr/local/lib/python3.10/dist-packages (from bleach->kaggle->opendatasets) (0.5.1)\n",
            "Requirement already satisfied: text-unidecode>=1.3 in /usr/local/lib/python3.10/dist-packages (from python-slugify->kaggle->opendatasets) (1.3)\n",
            "Requirement already satisfied: charset-normalizer<4,>=2 in /usr/local/lib/python3.10/dist-packages (from requests->kaggle->opendatasets) (3.3.0)\n",
            "Requirement already satisfied: idna<4,>=2.5 in /usr/local/lib/python3.10/dist-packages (from requests->kaggle->opendatasets) (3.4)\n",
            "Installing collected packages: opendatasets\n",
            "Successfully installed opendatasets-0.1.22\n"
          ]
        }
      ]
    },
    {
      "cell_type": "code",
      "source": [
        "import random\n",
        "import numpy as np\n",
        "import pandas as pd\n",
        "import seaborn as sns\n",
        "import opendatasets as od\n",
        "import matplotlib.pyplot as plt\n",
        "import os\n",
        "import re\n",
        "import string\n",
        "from nltk.tokenize import word_tokenize\n",
        "from nltk.corpus import stopwords\n",
        "import random"
      ],
      "metadata": {
        "id": "aOtCJ62PIwaO"
      },
      "execution_count": 27,
      "outputs": []
    },
    {
      "cell_type": "code",
      "source": [
        "from google.colab import files\n",
        "files.upload()"
      ],
      "metadata": {
        "colab": {
          "base_uri": "https://localhost:8080/",
          "height": 90
        },
        "id": "kfj2lEvUL-JX",
        "outputId": "5b5a9d15-a203-4746-f299-63cc17984a96"
      },
      "execution_count": 14,
      "outputs": [
        {
          "output_type": "display_data",
          "data": {
            "text/plain": [
              "<IPython.core.display.HTML object>"
            ],
            "text/html": [
              "\n",
              "     <input type=\"file\" id=\"files-45367117-e9b1-4910-91b8-e9a3cbf31ac7\" name=\"files[]\" multiple disabled\n",
              "        style=\"border:none\" />\n",
              "     <output id=\"result-45367117-e9b1-4910-91b8-e9a3cbf31ac7\">\n",
              "      Upload widget is only available when the cell has been executed in the\n",
              "      current browser session. Please rerun this cell to enable.\n",
              "      </output>\n",
              "      <script>// Copyright 2017 Google LLC\n",
              "//\n",
              "// Licensed under the Apache License, Version 2.0 (the \"License\");\n",
              "// you may not use this file except in compliance with the License.\n",
              "// You may obtain a copy of the License at\n",
              "//\n",
              "//      http://www.apache.org/licenses/LICENSE-2.0\n",
              "//\n",
              "// Unless required by applicable law or agreed to in writing, software\n",
              "// distributed under the License is distributed on an \"AS IS\" BASIS,\n",
              "// WITHOUT WARRANTIES OR CONDITIONS OF ANY KIND, either express or implied.\n",
              "// See the License for the specific language governing permissions and\n",
              "// limitations under the License.\n",
              "\n",
              "/**\n",
              " * @fileoverview Helpers for google.colab Python module.\n",
              " */\n",
              "(function(scope) {\n",
              "function span(text, styleAttributes = {}) {\n",
              "  const element = document.createElement('span');\n",
              "  element.textContent = text;\n",
              "  for (const key of Object.keys(styleAttributes)) {\n",
              "    element.style[key] = styleAttributes[key];\n",
              "  }\n",
              "  return element;\n",
              "}\n",
              "\n",
              "// Max number of bytes which will be uploaded at a time.\n",
              "const MAX_PAYLOAD_SIZE = 100 * 1024;\n",
              "\n",
              "function _uploadFiles(inputId, outputId) {\n",
              "  const steps = uploadFilesStep(inputId, outputId);\n",
              "  const outputElement = document.getElementById(outputId);\n",
              "  // Cache steps on the outputElement to make it available for the next call\n",
              "  // to uploadFilesContinue from Python.\n",
              "  outputElement.steps = steps;\n",
              "\n",
              "  return _uploadFilesContinue(outputId);\n",
              "}\n",
              "\n",
              "// This is roughly an async generator (not supported in the browser yet),\n",
              "// where there are multiple asynchronous steps and the Python side is going\n",
              "// to poll for completion of each step.\n",
              "// This uses a Promise to block the python side on completion of each step,\n",
              "// then passes the result of the previous step as the input to the next step.\n",
              "function _uploadFilesContinue(outputId) {\n",
              "  const outputElement = document.getElementById(outputId);\n",
              "  const steps = outputElement.steps;\n",
              "\n",
              "  const next = steps.next(outputElement.lastPromiseValue);\n",
              "  return Promise.resolve(next.value.promise).then((value) => {\n",
              "    // Cache the last promise value to make it available to the next\n",
              "    // step of the generator.\n",
              "    outputElement.lastPromiseValue = value;\n",
              "    return next.value.response;\n",
              "  });\n",
              "}\n",
              "\n",
              "/**\n",
              " * Generator function which is called between each async step of the upload\n",
              " * process.\n",
              " * @param {string} inputId Element ID of the input file picker element.\n",
              " * @param {string} outputId Element ID of the output display.\n",
              " * @return {!Iterable<!Object>} Iterable of next steps.\n",
              " */\n",
              "function* uploadFilesStep(inputId, outputId) {\n",
              "  const inputElement = document.getElementById(inputId);\n",
              "  inputElement.disabled = false;\n",
              "\n",
              "  const outputElement = document.getElementById(outputId);\n",
              "  outputElement.innerHTML = '';\n",
              "\n",
              "  const pickedPromise = new Promise((resolve) => {\n",
              "    inputElement.addEventListener('change', (e) => {\n",
              "      resolve(e.target.files);\n",
              "    });\n",
              "  });\n",
              "\n",
              "  const cancel = document.createElement('button');\n",
              "  inputElement.parentElement.appendChild(cancel);\n",
              "  cancel.textContent = 'Cancel upload';\n",
              "  const cancelPromise = new Promise((resolve) => {\n",
              "    cancel.onclick = () => {\n",
              "      resolve(null);\n",
              "    };\n",
              "  });\n",
              "\n",
              "  // Wait for the user to pick the files.\n",
              "  const files = yield {\n",
              "    promise: Promise.race([pickedPromise, cancelPromise]),\n",
              "    response: {\n",
              "      action: 'starting',\n",
              "    }\n",
              "  };\n",
              "\n",
              "  cancel.remove();\n",
              "\n",
              "  // Disable the input element since further picks are not allowed.\n",
              "  inputElement.disabled = true;\n",
              "\n",
              "  if (!files) {\n",
              "    return {\n",
              "      response: {\n",
              "        action: 'complete',\n",
              "      }\n",
              "    };\n",
              "  }\n",
              "\n",
              "  for (const file of files) {\n",
              "    const li = document.createElement('li');\n",
              "    li.append(span(file.name, {fontWeight: 'bold'}));\n",
              "    li.append(span(\n",
              "        `(${file.type || 'n/a'}) - ${file.size} bytes, ` +\n",
              "        `last modified: ${\n",
              "            file.lastModifiedDate ? file.lastModifiedDate.toLocaleDateString() :\n",
              "                                    'n/a'} - `));\n",
              "    const percent = span('0% done');\n",
              "    li.appendChild(percent);\n",
              "\n",
              "    outputElement.appendChild(li);\n",
              "\n",
              "    const fileDataPromise = new Promise((resolve) => {\n",
              "      const reader = new FileReader();\n",
              "      reader.onload = (e) => {\n",
              "        resolve(e.target.result);\n",
              "      };\n",
              "      reader.readAsArrayBuffer(file);\n",
              "    });\n",
              "    // Wait for the data to be ready.\n",
              "    let fileData = yield {\n",
              "      promise: fileDataPromise,\n",
              "      response: {\n",
              "        action: 'continue',\n",
              "      }\n",
              "    };\n",
              "\n",
              "    // Use a chunked sending to avoid message size limits. See b/62115660.\n",
              "    let position = 0;\n",
              "    do {\n",
              "      const length = Math.min(fileData.byteLength - position, MAX_PAYLOAD_SIZE);\n",
              "      const chunk = new Uint8Array(fileData, position, length);\n",
              "      position += length;\n",
              "\n",
              "      const base64 = btoa(String.fromCharCode.apply(null, chunk));\n",
              "      yield {\n",
              "        response: {\n",
              "          action: 'append',\n",
              "          file: file.name,\n",
              "          data: base64,\n",
              "        },\n",
              "      };\n",
              "\n",
              "      let percentDone = fileData.byteLength === 0 ?\n",
              "          100 :\n",
              "          Math.round((position / fileData.byteLength) * 100);\n",
              "      percent.textContent = `${percentDone}% done`;\n",
              "\n",
              "    } while (position < fileData.byteLength);\n",
              "  }\n",
              "\n",
              "  // All done.\n",
              "  yield {\n",
              "    response: {\n",
              "      action: 'complete',\n",
              "    }\n",
              "  };\n",
              "}\n",
              "\n",
              "scope.google = scope.google || {};\n",
              "scope.google.colab = scope.google.colab || {};\n",
              "scope.google.colab._files = {\n",
              "  _uploadFiles,\n",
              "  _uploadFilesContinue,\n",
              "};\n",
              "})(self);\n",
              "</script> "
            ]
          },
          "metadata": {}
        },
        {
          "output_type": "stream",
          "name": "stdout",
          "text": [
            "Saving kaggle.json to kaggle.json\n"
          ]
        },
        {
          "output_type": "execute_result",
          "data": {
            "text/plain": [
              "{'kaggle.json': b'{\"username\":\"jimmyclariel\",\"key\":\"1552fd3e43f3a9df148e47914f456c44\"}'}"
            ]
          },
          "metadata": {},
          "execution_count": 14
        }
      ]
    },
    {
      "cell_type": "code",
      "source": [
        "import nltk\n",
        "nltk.download('punkt')"
      ],
      "metadata": {
        "colab": {
          "base_uri": "https://localhost:8080/"
        },
        "id": "J9hXH9K_K213",
        "outputId": "bdf452db-8040-4d8a-de16-b334021e2a33"
      },
      "execution_count": 31,
      "outputs": [
        {
          "output_type": "stream",
          "name": "stderr",
          "text": [
            "[nltk_data] Downloading package punkt to /root/nltk_data...\n",
            "[nltk_data]   Unzipping tokenizers/punkt.zip.\n"
          ]
        },
        {
          "output_type": "execute_result",
          "data": {
            "text/plain": [
              "True"
            ]
          },
          "metadata": {},
          "execution_count": 31
        }
      ]
    },
    {
      "cell_type": "code",
      "source": [
        "od.download('https://www.kaggle.com/datasets/idevji1/sherlock-holmes-stories')"
      ],
      "metadata": {
        "id": "M0CNiVgb9FFM",
        "colab": {
          "base_uri": "https://localhost:8080/"
        },
        "outputId": "4ce303d2-637e-4a43-e069-93c3749e6928"
      },
      "execution_count": 16,
      "outputs": [
        {
          "output_type": "stream",
          "name": "stdout",
          "text": [
            "Downloading sherlock-holmes-stories.zip to ./sherlock-holmes-stories\n"
          ]
        },
        {
          "output_type": "stream",
          "name": "stderr",
          "text": [
            "100%|██████████| 9.93M/9.93M [00:00<00:00, 81.6MB/s]"
          ]
        },
        {
          "output_type": "stream",
          "name": "stdout",
          "text": [
            "\n"
          ]
        },
        {
          "output_type": "stream",
          "name": "stderr",
          "text": [
            "\n"
          ]
        }
      ]
    },
    {
      "cell_type": "code",
      "source": [
        "from IPython.utils import text\n",
        "from numpy.core.multiarray import empty\n",
        "from nltk.parse.chart import EmptyPredictRule\n",
        "story_path = \"./sherlock-holmes-stories/sherlock/sherlock/\"\n",
        "\n",
        "def read_all_stories(story_path):\n",
        "  txt = []\n",
        "  for _,_, files in os.walk(story_path):\n",
        "    for file in files:\n",
        "      with open(story_path+file) as f:\n",
        "        for line in f:\n",
        "          line = line.strip()\n",
        "          if line=='----------': break\n",
        "          if line!='':txt.append(line)\n",
        "  return txt\n",
        "\n",
        "stories = read_all_stories(story_path)\n",
        "\n",
        "print(len(stories))"
      ],
      "metadata": {
        "colab": {
          "base_uri": "https://localhost:8080/"
        },
        "id": "mY50iTo_JKWL",
        "outputId": "fbbd8d73-58a5-4e36-8abc-236de0bc88aa"
      },
      "execution_count": 29,
      "outputs": [
        {
          "output_type": "stream",
          "name": "stdout",
          "text": [
            "215021\n"
          ]
        }
      ]
    },
    {
      "cell_type": "markdown",
      "source": [
        "# **Cleaning processes**"
      ],
      "metadata": {
        "id": "LMIqdLedcLWX"
      }
    },
    {
      "cell_type": "code",
      "source": [
        "def clean_txt(text):\n",
        "  cleaned_txt = []\n",
        "  for line in text:\n",
        "    line = line.lower()\n",
        "    line = re.sub(r\"[,.\\\"\\'!@#$%^&*(){}?/;`~:<>+=-\\\\]\", \"\", line)\n",
        "    tokens = word_tokenize(line)\n",
        "    words = [word for word in tokens if word.isalpha()]\n",
        "\n",
        "    cleaned_txt += words\n",
        "  return cleaned_txt\n",
        "\n",
        "\n",
        "cleaned_story = clean_txt(stories)\n",
        "print(\"number of words = \", len(cleaned_story))\n"
      ],
      "metadata": {
        "colab": {
          "base_uri": "https://localhost:8080/"
        },
        "id": "qifNH8oscaCA",
        "outputId": "d31a703f-09cc-4037-adea-de76ac7cd7a2"
      },
      "execution_count": 33,
      "outputs": [
        {
          "output_type": "stream",
          "name": "stdout",
          "text": [
            "number of words =  2332247\n"
          ]
        }
      ]
    },
    {
      "cell_type": "markdown",
      "source": [
        "# **Creating MARKOV MODEL**"
      ],
      "metadata": {
        "id": "eG12cfJ2tN8a"
      }
    },
    {
      "cell_type": "code",
      "source": [
        "def make_markov_model(cleaned_stories, n_gram=2):\n",
        "  markov_model = {}\n",
        "  for i in range( len(cleaned_stories)-n_gram-1):\n",
        "    curr_state, next_state = \"\",\"\"\n",
        "    for j in range(n_gram):\n",
        "      curr_state += cleaned_stories[i+j] + \" \"\n",
        "      next_state += cleaned_stories[i+j+n_gram] + \" \"\n",
        "    curr_state = curr_state[:-1]\n",
        "    next_state = next_state[:-1]\n",
        "    if curr_state not in markov_model:\n",
        "      markov_model[curr_state] = {}\n",
        "      markov_model[curr_state][next_state] = 1\n",
        "    elif next_state in markov_model[curr_state]:\n",
        "      markov_model[curr_state][next_state] +=1\n",
        "    else:\n",
        "      markov_model[curr_state][next_state] =1\n",
        "\n",
        "  # calculating the transition probs\n",
        "  for curr_state, transition in markov_model.items():\n",
        "    total =  sum(transition.values())\n",
        "    for state, count in transition.items():\n",
        "      markov_model[curr_state][state] = count/total\n",
        "\n",
        "  return markov_model\n",
        "\n",
        "markov_model = make_markov_model(cleaned_story,2)"
      ],
      "metadata": {
        "id": "F-67Z6CftYfG"
      },
      "execution_count": 39,
      "outputs": []
    },
    {
      "cell_type": "code",
      "source": [
        "print(\"number of states = \", len(markov_model.keys()))"
      ],
      "metadata": {
        "colab": {
          "base_uri": "https://localhost:8080/"
        },
        "id": "p7pbliG7xreS",
        "outputId": "ac07c678-802e-4c8d-cffa-6778b31cb0b0"
      },
      "execution_count": 40,
      "outputs": [
        {
          "output_type": "stream",
          "name": "stdout",
          "text": [
            "number of states =  208717\n"
          ]
        }
      ]
    },
    {
      "cell_type": "code",
      "source": [
        "print(markov_model['sherlock holmes'])"
      ],
      "metadata": {
        "colab": {
          "base_uri": "https://localhost:8080/"
        },
        "id": "hZ-w6WXZyJxb",
        "outputId": "8093b8b6-4bdb-4ab4-dbb5-8e2beee051f9"
      },
      "execution_count": 47,
      "outputs": [
        {
          "output_type": "stream",
          "name": "stdout",
          "text": [
            "{'had interested': 0.0029390154298310064, 'there were': 0.005878030859662013, 'was standing': 0.0029390154298310064, 'not so': 0.0029390154298310064, 'is free': 0.0029390154298310064, 'gazing fixedly': 0.0029390154298310064, 'in his': 0.0029390154298310064, 'with peculiar': 0.0029390154298310064, 'peters as': 0.0029390154298310064, 'im going': 0.0029390154298310064, 'said peters': 0.0029390154298310064, 'was too': 0.0029390154298310064, 'i find': 0.0029390154298310064, 'standing fully': 0.0029390154298310064, 'this is': 0.005878030859662013, 'ran her': 0.0029390154298310064, 'had been': 0.011021307861866276, 'leaning back': 0.0029390154298310064, 'returned from': 0.0029390154298310064, 'and i': 0.019103600293901544, 'as we': 0.011756061719324026, 'opened quite': 0.002204261572373255, 'i read': 0.002204261572373255, 'shrugged his': 0.00440852314474651, 'had listened': 0.005878030859662013, 'to undertake': 0.0029390154298310064, 'can return': 0.0029390154298310064, 'left the': 0.0029390154298310064, 'you will': 0.0029390154298310064, 'smiled demurely': 0.0029390154298310064, 'i had': 0.00881704628949302, 'pulled out': 0.0029390154298310064, 'stopped at': 0.0029390154298310064, 'and his': 0.0029390154298310064, 'shook his': 0.0029390154298310064, 'send the': 0.0029390154298310064, 'abruptly this': 0.0029390154298310064, 'one day': 0.0029390154298310064, 'quick eye': 0.0029390154298310064, 'said jabez': 0.0029390154298310064, 'his name': 0.0029390154298310064, 'stopped in': 0.0029390154298310064, 'here i': 0.0029390154298310064, 'that you': 0.0029390154298310064, 'was not': 0.005878030859662013, 'had sprung': 0.0029390154298310064, 'london has': 0.0029390154298310064, 'was leaning': 0.0029390154298310064, 'listened with': 0.00881704628949302, 'said he': 0.00881704628949302, 'you may': 0.008082292432035268, 'took any': 0.0029390154298310064, 'the constables': 0.0029390154298310064, 'arthur conan': 0.005143277002204262, 'a scandal': 0.0029390154298310064, 'silver blaze': 0.0029390154298310064, 'the adventure': 0.00440852314474651, 'the science': 0.002204261572373255, 'in the': 0.002204261572373255, 'yet he': 0.002204261572373255, 'said stamford': 0.002204261572373255, 'test and': 0.002204261572373255, 'sticking a': 0.002204261572373255, 'seemed delighted': 0.002204261572373255, 'followed me': 0.002204261572373255, 'his limits': 0.002204261572373255, 'used to': 0.002204261572373255, 'had not': 0.005143277002204262, 'why this': 0.002204261572373255, 'remarked calmly': 0.002204261572373255, 'rose and': 0.002204261572373255, 'sniffed sardonically': 0.002204261572373255, 'brag and': 0.002204261572373255, 'he said': 0.0073475385745775165, 'there has': 0.002204261572373255, 'would at': 0.002204261572373255, 'no sir': 0.002204261572373255, 'approached the': 0.002204261572373255, 'chuckled to': 0.002204261572373255, 'smallest actions': 0.002204261572373255, 'curtly and': 0.002204261572373255, 'led me': 0.002204261572373255, 'with the': 0.002204261572373255, 'john rance': 0.002204261572373255, 'rose softly': 0.002204261572373255, 'sharply the': 0.002204261572373255, 'sprang to': 0.00440852314474651, 'sharply we': 0.002204261572373255, 'gave a': 0.002204261572373255, 'for we': 0.002204261572373255, 'i next': 0.002204261572373255, 'when you': 0.00440852314474651, 'with a': 0.00440852314474651, 'for on': 0.002204261572373255, 'whose lips': 0.002204261572373255, 'answered the': 0.002204261572373255, 'sprang from': 0.002204261572373255, 'earnest demeanour': 0.002204261572373255, 'drew a': 0.002204261572373255, 'it will': 0.002204261572373255, 'my cabs': 0.002204261572373255, 'said at': 0.002204261572373255, 'smiling at': 0.002204261572373255, 'who has': 0.002204261572373255, 'gives a': 0.00440852314474651, 'took his': 0.002204261572373255, 'lightly he': 0.002204261572373255, 'placed for': 0.002204261572373255, 'has anything': 0.002204261572373255, 'pensively but': 0.002204261572373255, 'put to': 0.002204261572373255, 'was never': 0.002204261572373255, 'and this': 0.002204261572373255, 'leaned back': 0.0073475385745775165, 'genially i': 0.002204261572373255, 'roared the': 0.002204261572373255, 'took the': 0.005143277002204262, 'bent down': 0.002204261572373255, 'putting his': 0.002204261572373255, 'the theorist': 0.002204261572373255, 'turning upon': 0.002204261572373255, 'i began': 0.002204261572373255, 'wanted sir': 0.002204261572373255, 'was on': 0.002204261572373255, 'looked slowly': 0.002204261572373255, 'and dr': 0.002204261572373255, 'still sat': 0.002204261572373255, 'has gone': 0.002204261572373255, 'is out': 0.002204261572373255, 'is a': 0.002204261572373255, 'here said': 0.002204261572373255, 'with all': 0.002204261572373255, 'and jones': 0.002204261572373255, 'a fitting': 0.002204261572373255, 'there still': 0.002204261572373255, 'she is': 0.0029390154298310064, 'succinct description': 0.0029390154298310064, 'by either': 0.0029390154298310064, 'i believe': 0.0029390154298310064, 'staggered back': 0.0029390154298310064, 'esq to': 0.0029390154298310064, 'you really': 0.0029390154298310064, 'then i': 0.0029390154298310064, 'very truly': 0.0029390154298310064, 'were beaten': 0.0029390154298310064, 'welcomed her': 0.0029390154298310064, 'with his': 0.005878030859662013, 'impatient under': 0.0029390154298310064, 'sat silent': 0.005878030859662013, 'clapped his': 0.0029390154298310064, 'alone however': 0.0029390154298310064, 'and ran': 0.0029390154298310064, 'cases i': 0.0029390154298310064, 'was pacing': 0.0029390154298310064, 'she cried': 0.0029390154298310064, 'insight that': 0.0029390154298310064, 'returned he': 0.0029390154298310064, 'was transformed': 0.0029390154298310064, 'took a': 0.0029390154298310064, 'james mccarthy': 0.0029390154298310064, 'cases between': 0.0029390154298310064, 'was able': 0.0029390154298310064, 'sat moodily': 0.0029390154298310064, 'was wrong': 0.0029390154298310064, 'you must': 0.0029390154298310064, 'sat for': 0.0029390154298310064, 'closed his': 0.0029390154298310064, 'bending forward': 0.0029390154298310064, 'was already': 0.0029390154298310064, 'he made': 0.0029390154298310064, 'requests for': 0.0029390154298310064, 'for two': 0.0029390154298310064, 'said the': 0.0029390154298310064, 'seemed to': 0.0029390154298310064, 'sprang out': 0.0029390154298310064, 'was a': 0.014695077149155033, 'was well': 0.0029390154298310064, 'sat down': 0.005878030859662013, 'upon the': 0.005878030859662013, 'laughing only': 0.0029390154298310064, 'laughed here': 0.0029390154298310064, 'had opened': 0.0029390154298310064, 'sat up': 0.0029390154298310064, 'glanced sharply': 0.0029390154298310064, 'looked deeply': 0.0029390154298310064, 'it is': 0.00881704628949302, 'hailed a': 0.0029390154298310064, 'for solution': 0.0029390154298310064, 'before you': 0.0029390154298310064, 'was as': 0.005878030859662013, 'pulled down': 0.0029390154298310064, 'the hydraulic': 0.0029390154298310064, 'had a': 0.0029390154298310064, 'lord backwater': 0.0029390154298310064, 'laughing i': 0.0029390154298310064, 'left me': 0.0029390154298310064, 'stepped briskly': 0.0029390154298310064, 'pushed him': 0.0029390154298310064, 'took it': 0.0029390154298310064, 'rather sternly': 0.0029390154298310064, 'tossing aside': 0.0029390154298310064, 'sprang forward': 0.0029390154298310064, 'replaced the': 0.0029390154298310064, 'four days': 0.0029390154298310064, 'laughed i': 0.0029390154298310064, 'for i': 0.0029390154298310064, 'we have': 0.0029390154298310064, 'rubbed his': 0.0029390154298310064, 'cocked his': 0.0029390154298310064, 'was that': 0.0029390154298310064, 'picked them': 0.0029390154298310064, 'recovered from': 0.0029390154298310064, 'the younger': 0.0029390154298310064, 'laughed heartily': 0.0029390154298310064, 'placed the': 0.0029390154298310064, 'who stood': 0.0029390154298310064, 'i have': 0.011756061719324026, 'and of': 0.005878030859662013, 'i introduced': 0.0029390154298310064, 'he rose': 0.0029390154298310064, 'swallowed a': 0.0029390154298310064, 'was distinguished': 0.0029390154298310064, 'it may': 0.0029390154298310064, 'a few': 0.0029390154298310064, 'very thoughtful': 0.0029390154298310064, 'preserved his': 0.0029390154298310064, 'you remember': 0.0029390154298310064, 'gave his': 0.0029390154298310064, 'in fact': 0.0029390154298310064, 'i only': 0.0029390154298310064, 'good lord': 0.0029390154298310064, 'would be': 0.0029390154298310064, 'there watson': 0.0029390154298310064, 'i fear': 0.0029390154298310064, 'why it': 0.0029390154298310064, 'for they': 0.0029390154298310064, 'and if': 0.0029390154298310064, 'the consulting': 0.0029390154298310064, 'and it': 0.0029390154298310064, 'holmes clapped': 0.0029390154298310064, 'here my': 0.0029390154298310064, 'and myself': 0.0029390154298310064, 'was pursuing': 0.0029390154298310064, 'there was': 0.0029390154298310064, 'said my': 0.005143277002204262, 'you compel': 0.0029390154298310064, 'a puzzled': 0.0029390154298310064, 'my companion': 0.0029390154298310064, 'may i': 0.0029390154298310064, 'finding that': 0.0029390154298310064, 'which i': 0.0029390154298310064, 'rose with': 0.0029390154298310064, 'inquired we': 0.0029390154298310064, 'the curse': 0.002204261572373255, 'mr sherlock': 0.002204261572373255, 'who was': 0.002204261572373255, 'the specialist': 0.002204261572373255, 'whom i': 0.002204261572373255, 'waved our': 0.002204261572373255, 'the latter': 0.002204261572373255, 'for calling': 0.002204261572373255, 'struck his': 0.002204261572373255, 'that if': 0.002204261572373255, 'we will': 0.002204261572373255, 'i confess': 0.002204261572373255, 'had in': 0.002204261572373255, 'but it': 0.002204261572373255, 'made a': 0.002204261572373255, 'never have': 0.002204261572373255, 'was it': 0.002204261572373255, 'thats how': 0.002204261572373255, 'the cabman': 0.002204261572373255, 'drove with': 0.002204261572373255, 'sir henry': 0.002204261572373255, 'the words': 0.002204261572373255, 'is interesting': 0.002204261572373255, 'which lie': 0.002204261572373255, 'now however': 0.002204261572373255, 'for nothing': 0.002204261572373255, 'my friend': 0.002204261572373255, 'for he': 0.002204261572373255, 'opened his': 0.002204261572373255, 'the recital': 0.002204261572373255, 'you have': 0.002204261572373255, 'discourses the': 0.002204261572373255, 'remarked impatiently': 0.002204261572373255, 'had pushed': 0.002204261572373255, 'discourses it': 0.002204261572373255, 'is so': 0.002204261572373255, 'put the': 0.002204261572373255, 'gravely i': 0.002204261572373255, 'i am': 0.002204261572373255, 'quietly what': 0.002204261572373255, 'the english': 0.002204261572373255, 'will be': 0.002204261572373255, 'all you': 0.0029390154298310064, 'was rubbing': 0.0029390154298310064, 'ringing the': 0.0029390154298310064, 'when we': 0.0029390154298310064, 'and turned': 0.0029390154298310064, 'had recounted': 0.0029390154298310064, 'was his': 0.0029390154298310064, 'i will': 0.0029390154298310064, 'the mention': 0.0029390154298310064, 'remarked my': 0.0029390154298310064, 'it was': 0.002204261572373255, 'as he': 0.0029390154298310064, 'was in': 0.00440852314474651, 'i assured': 0.002204261572373255, 'the inspector': 0.002204261572373255, 'and will': 0.002204261572373255, 'now proposed': 0.002204261572373255, 'i think': 0.002204261572373255, 'the private': 0.002204261572373255, 'the next': 0.002204261572373255, 'was threatened': 0.002204261572373255, 'we shall': 0.002204261572373255, 'was always': 0.002204261572373255, 'was about': 0.002204261572373255, 'threw himself': 0.002204261572373255, 'had at': 0.002204261572373255, 'i cant': 0.002204261572373255, 'knocking out': 0.002204261572373255, 'preface the': 0.0007347538574577516, 'preface i': 0.0007347538574577516, 'may become': 0.0014695077149155032, 'he began': 0.0014695077149155032, 'i thank': 0.0014695077149155032, 'the hound': 0.0007347538574577516}\n"
          ]
        }
      ]
    },
    {
      "cell_type": "markdown",
      "source": [
        "# **Generating Sherlock Holmes like stories**"
      ],
      "metadata": {
        "id": "fnnz0ABIy3O0"
      }
    },
    {
      "cell_type": "code",
      "source": [
        "def generate_story(markov_model, limit=100, start=\"dear sherlock\"):\n",
        "  n=0\n",
        "  curr_state = start\n",
        "  next_state = None\n",
        "  story = curr_state + \" \"\n",
        "  while n<limit:\n",
        "    next_state =  random.choices(list(markov_model[curr_state].keys()),list(markov_model[curr_state].values()))\n",
        "    curr_state = next_state[0]\n",
        "    story += curr_state + \" \"\n",
        "    n +=1\n",
        "\n",
        "  return story"
      ],
      "metadata": {
        "id": "fgmr3TAFy-LF"
      },
      "execution_count": 61,
      "outputs": []
    },
    {
      "cell_type": "code",
      "source": [
        "phrase = {\"sherlock holmes\",\"old gentleman\",\"of detail\",\"dear holmes\",\"separate explanations\",\"her voyage\", \"happy thought\",\"the case\"}\n",
        "for word in phrase:\n",
        "  print(generate_story(markov_model, start=word , limit=100))"
      ],
      "metadata": {
        "colab": {
          "base_uri": "https://localhost:8080/"
        },
        "id": "7sis0NTa0ZUQ",
        "outputId": "9a22a715-02d9-4088-b411-e688970bb683"
      },
      "execution_count": 79,
      "outputs": [
        {
          "output_type": "stream",
          "name": "stdout",
          "text": [
            "the case i ended by doing this mark of their opponent and they hoped that time had such a day will permit me colonel i will personally conduct you no doubt travel a little forward and laid her on the clay outside and on the other side at a nine you will excuse us for feeling sore when you jump in with him and yet he shoved the large tin of cigarettes here which we had so clear if only you two days ago woodley came up to them when the church he was a man who was in the british army it did seem very loud you dont think it likely that a bright future awaits you when goods delivered pierrot then comes our expedition of by an examination of his messenger came cecil barker much excited hold it back for cargo i would have been easier but you saw me into the garden we can enter in a research into the pathology of catalepsy and finally when i saw the vague loom of two glowing eyes towards us his head had been employed between and the brother the young man but our legal work begins exactly said i may i \n",
            "separate explanations each of them he was very uncourteous and indeed under the circumstances are which have disturbed you one other thing i wish you to the mastiff i was that energetic person and though the man answered vell i vant to tell you it all depends upon the breed of men then you could hardly ever be valued at so extravagant a rate as two pence a word it does not well then will you not wait passively any longer it is certainly a very stiff with small hard knots upon it by the barrel of a there might be a mere chance i take it the greatest privilege to have it his bright humor marked the village of trumpington to the right thing by his fathers he married a wife as a family blot to my wife and i have them here she answered turning white to her past and we owe you a sovereign for the use which you obtain your results in this case there are the wheels of the paper and having turned down the street with me its for your final answer you quite so well there was nothing of it well it is very customary \n",
            "her voyage and it was a bit gruff in my ears well i took to be in the one dreadful shriek they say that but i have to carry him until the race was over and quite right and i stopped at a large building with great yellow turban and white feather in the same state kneeling at the end of a woman who would do what i say or do once again holmes raved in the air of something coming the garden gate the professor was still in bed at the first third and fifth now when i get back dont touch me jimmie keep your distance and all ones plans shattered at the last three years ago then he struck a match he drew out a photograph and for present expenses the king took the reproof with equanimity the air of a bodymaster and the lord st simon it is particularly so for it is a resident of that suburb where he was warmly greeted by the manager answered yes theres blackmail in it than this they are all family portraits i presume every one do you know all about it save only one in the moonlight down by the \n",
            "dear holmes i ejaculated after i leave the game in their hands of the door when he came back with me inspector im ready to stand erect when my eye you see i made inquiries about the page indicated here you are police are making the mistake of concentrating their attention upon this i take it himself with some rather shady speculations and is now supplied with it i should let the morning air and a moment later i saw by his long grey and cloth cap it was all that was an expression which my companions singular gifts have made us the listeners the ladys story was told and by the inspectors face that his excitement had no justification it was pure devilry on the table under a chandelier the coffin to insure that there can be of little culture but with a wry face well im glad to know what i have come to us i gave a wriggle of suppressed excitement her restlessness her tenacity in asking questions remember that she will be singular indeed if we act quickly and wisely we can only concentrate our attention for a hammer that id left on the charge of their new \n",
            "old gentleman in a window but that one is politics on this particular evening old amberley wishing to give his old uncle with his keen twinkling eyes at me a sketch of my adventures in afghanistan to last save on very special study i will do me justice if you can read for yourself sir i am afraid i cant take that line mr harris i am an interpreter as perhaps my neighbor there has told you how i love you that is why i loathe him with an ashen white while his lips and he soon fell into our modest good morning mr holmes for calling my attention to the ham and eggs i answered it is mrs bernstone and from there to cut it rather fine watson is the chislehurst train the lady broke in upon that day yes was there anything you would forgive me tell me what you want me to tell me what a really shameful secret in the lowlands in charles head was still pondering the open window there was not a moment to lose again with the drumming of frenzied hands against the grey rocks behind at the sight of his grievances we walked down \n",
            "sherlock holmes was standing in front of him on another occasion an old gentleman with the red streaks at that hour to glancing a little more before i was certain from the direction in which we travelled what is this the three fugitives and the direction where help was least likely to succeed her than the there must be some fussy fool it may be of considerable service to me that his bed had never been to his not too proud to feel that i may be clearer in the betting they had an example of his readiness of resource that morning then i shall certainly do as much for the daily gazette extracts of the garden gate and now we only kept it then hes got the brains surely you can carry the weight of the matter of these that the first two i need you but i have been not to draw the rope or so therefore i argued they did not even know that it was to do the instant that we heard it but it was that standing over hugo and plucking at his own time and in some ways i feel that i did so i caught \n",
            "of detail which will pour a flood of information i shall be so also you would not object to tobacco i take it up said lestrade grimly none the less so as the secret of rejuvenescence and the policemen had assembled in the hall looking back at the sight of that which would be glad to avail himself of the train that was clear from the sierra nevada to nebraska and from the indian still paced his room early though we knew that we have our diplomatic secrets said he heres the agreement on the if you consider the blow which had been drawn in that vibrant voice which told me that we are quite in the sere and yellow that was his style of talk there about two in the morning with the rounded shoulders as he might have been heard of there being an orthodox and conventional to the last remaining leaves were being killed in cold blood far away moving towards us watson we are going to now i lived in that farm where i could rely upon being taken to her room during the reconstruction of this mysterious ally how came he pushed his spectacles up on his \n",
            "happy thought came to just six feet and dragged myself along hardly conscious of a thick which hung over him and this was the impression which had been compelled to listen to my comments and then up at him there is nothing in that house and tear about the garden fence but now he begins to define itself i have the honour and happiness of his marriage would have been long in practice but armstrong is certainly a model client you have been longing for my brother heres your advance of a man clad in a black reaction comes upon you surely know enough of law to clear i take it the older man might have made excellent citizens were taking heart to band themselves together against their oppressors rumours had reached let us have him and i am inclined to think that you may be as anxious to give him heart and then herself so the servants door was not quite understand the object of your visit to eduardo lucas of your giving this unnecessary trouble we have had that name lived some miles off in an instant though for these could only be a serious one to me supposing i \n"
          ]
        }
      ]
    }
  ]
}